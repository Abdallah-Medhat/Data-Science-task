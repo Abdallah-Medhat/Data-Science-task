{
  "cells": [
    {
      "cell_type": "markdown",
      "id": "46300d3e",
      "metadata": {
        "id": "46300d3e"
      },
      "source": [
        "# import libraries"
      ]
    },
    {
      "cell_type": "code",
      "execution_count": null,
      "id": "08f140c7",
      "metadata": {
        "id": "08f140c7"
      },
      "outputs": [],
      "source": [
        "import numpy as np \n",
        "import pandas as pd\n",
        "import matplotlib.pyplot as plt\n",
        "import seaborn as sns\n",
        "from sklearn.preprocessing import LabelEncoder\n",
        "import re"
      ]
    },
    {
      "cell_type": "markdown",
      "id": "b310162f",
      "metadata": {
        "id": "b310162f"
      },
      "source": [
        "# Import and load dataset"
      ]
    },
    {
      "cell_type": "code",
      "execution_count": null,
      "id": "50c25f43",
      "metadata": {
        "id": "50c25f43"
      },
      "outputs": [],
      "source": [
        "drink_menu = pd.read_csv(\"drinkMenu.csv\")"
      ]
    },
    {
      "cell_type": "markdown",
      "source": [
        "showing first 4 rows in dataset"
      ],
      "metadata": {
        "id": "CQlFRdWZjoBP"
      },
      "id": "CQlFRdWZjoBP"
    },
    {
      "cell_type": "code",
      "execution_count": null,
      "id": "dc17cb42",
      "metadata": {
        "id": "dc17cb42",
        "outputId": "8062e1aa-eee2-4d69-aead-eef090241b81"
      },
      "outputs": [
        {
          "data": {
            "text/html": [
              "<div>\n",
              "<style scoped>\n",
              "    .dataframe tbody tr th:only-of-type {\n",
              "        vertical-align: middle;\n",
              "    }\n",
              "\n",
              "    .dataframe tbody tr th {\n",
              "        vertical-align: top;\n",
              "    }\n",
              "\n",
              "    .dataframe thead th {\n",
              "        text-align: right;\n",
              "    }\n",
              "</style>\n",
              "<table border=\"1\" class=\"dataframe\">\n",
              "  <thead>\n",
              "    <tr style=\"text-align: right;\">\n",
              "      <th></th>\n",
              "      <th>Beverage_category</th>\n",
              "      <th>Beverage</th>\n",
              "      <th>Beverage_prep</th>\n",
              "      <th>Calories</th>\n",
              "      <th>Total Fat (g)</th>\n",
              "      <th>Trans Fat (g)</th>\n",
              "      <th>Saturated Fat (g)</th>\n",
              "      <th>Sodium (mg)</th>\n",
              "      <th>Total Carbohydrates (g)</th>\n",
              "      <th>Cholesterol (mg)</th>\n",
              "      <th>Dietary Fibre (g)</th>\n",
              "      <th>Sugars (g)</th>\n",
              "      <th>Protein (g)</th>\n",
              "      <th>Vitamin A (% DV)</th>\n",
              "      <th>Vitamin C (% DV)</th>\n",
              "      <th>Calcium (% DV)</th>\n",
              "      <th>Iron (% DV)</th>\n",
              "      <th>Caffeine (mg)</th>\n",
              "    </tr>\n",
              "  </thead>\n",
              "  <tbody>\n",
              "    <tr>\n",
              "      <th>0</th>\n",
              "      <td>Coffee</td>\n",
              "      <td>Brewed Coffee</td>\n",
              "      <td>Short</td>\n",
              "      <td>3</td>\n",
              "      <td>0.1</td>\n",
              "      <td>0.0</td>\n",
              "      <td>0.0</td>\n",
              "      <td>0</td>\n",
              "      <td>5</td>\n",
              "      <td>0</td>\n",
              "      <td>0</td>\n",
              "      <td>0</td>\n",
              "      <td>0.3</td>\n",
              "      <td>0%</td>\n",
              "      <td>0%</td>\n",
              "      <td>0%</td>\n",
              "      <td>0%</td>\n",
              "      <td>175</td>\n",
              "    </tr>\n",
              "    <tr>\n",
              "      <th>1</th>\n",
              "      <td>Coffee</td>\n",
              "      <td>Brewed Coffee</td>\n",
              "      <td>Tall</td>\n",
              "      <td>4</td>\n",
              "      <td>0.1</td>\n",
              "      <td>0.0</td>\n",
              "      <td>0.0</td>\n",
              "      <td>0</td>\n",
              "      <td>10</td>\n",
              "      <td>0</td>\n",
              "      <td>0</td>\n",
              "      <td>0</td>\n",
              "      <td>0.5</td>\n",
              "      <td>0%</td>\n",
              "      <td>0%</td>\n",
              "      <td>0%</td>\n",
              "      <td>0%</td>\n",
              "      <td>260</td>\n",
              "    </tr>\n",
              "    <tr>\n",
              "      <th>2</th>\n",
              "      <td>Coffee</td>\n",
              "      <td>Brewed Coffee</td>\n",
              "      <td>Grande</td>\n",
              "      <td>5</td>\n",
              "      <td>0.1</td>\n",
              "      <td>0.0</td>\n",
              "      <td>0.0</td>\n",
              "      <td>0</td>\n",
              "      <td>10</td>\n",
              "      <td>0</td>\n",
              "      <td>0</td>\n",
              "      <td>0</td>\n",
              "      <td>1.0</td>\n",
              "      <td>0%</td>\n",
              "      <td>0%</td>\n",
              "      <td>0%</td>\n",
              "      <td>0%</td>\n",
              "      <td>330</td>\n",
              "    </tr>\n",
              "    <tr>\n",
              "      <th>3</th>\n",
              "      <td>Coffee</td>\n",
              "      <td>Brewed Coffee</td>\n",
              "      <td>Venti</td>\n",
              "      <td>5</td>\n",
              "      <td>0.1</td>\n",
              "      <td>0.0</td>\n",
              "      <td>0.0</td>\n",
              "      <td>0</td>\n",
              "      <td>10</td>\n",
              "      <td>0</td>\n",
              "      <td>0</td>\n",
              "      <td>0</td>\n",
              "      <td>1.0</td>\n",
              "      <td>0%</td>\n",
              "      <td>0%</td>\n",
              "      <td>2%</td>\n",
              "      <td>0%</td>\n",
              "      <td>410</td>\n",
              "    </tr>\n",
              "    <tr>\n",
              "      <th>4</th>\n",
              "      <td>Classic Espresso Drinks</td>\n",
              "      <td>Caffè Latte</td>\n",
              "      <td>Short Nonfat Milk</td>\n",
              "      <td>70</td>\n",
              "      <td>0.1</td>\n",
              "      <td>0.1</td>\n",
              "      <td>0.0</td>\n",
              "      <td>5</td>\n",
              "      <td>75</td>\n",
              "      <td>10</td>\n",
              "      <td>0</td>\n",
              "      <td>9</td>\n",
              "      <td>6.0</td>\n",
              "      <td>10%</td>\n",
              "      <td>0%</td>\n",
              "      <td>20%</td>\n",
              "      <td>0%</td>\n",
              "      <td>75</td>\n",
              "    </tr>\n",
              "  </tbody>\n",
              "</table>\n",
              "</div>"
            ],
            "text/plain": [
              "         Beverage_category       Beverage      Beverage_prep  Calories  \\\n",
              "0                   Coffee  Brewed Coffee              Short         3   \n",
              "1                   Coffee  Brewed Coffee               Tall         4   \n",
              "2                   Coffee  Brewed Coffee             Grande         5   \n",
              "3                   Coffee  Brewed Coffee              Venti         5   \n",
              "4  Classic Espresso Drinks    Caffè Latte  Short Nonfat Milk        70   \n",
              "\n",
              "   Total Fat (g)  Trans Fat (g)   Saturated Fat (g)   Sodium (mg)  \\\n",
              "0            0.1             0.0                0.0             0   \n",
              "1            0.1             0.0                0.0             0   \n",
              "2            0.1             0.0                0.0             0   \n",
              "3            0.1             0.0                0.0             0   \n",
              "4            0.1             0.1                0.0             5   \n",
              "\n",
              "    Total Carbohydrates (g)   Cholesterol (mg)   Dietary Fibre (g)  \\\n",
              "0                          5                 0                   0   \n",
              "1                         10                 0                   0   \n",
              "2                         10                 0                   0   \n",
              "3                         10                 0                   0   \n",
              "4                         75                10                   0   \n",
              "\n",
              "    Sugars (g)   Protein (g)  Vitamin A (% DV)  Vitamin C (% DV)  \\\n",
              "0            0            0.3                0%               0%   \n",
              "1            0            0.5                0%               0%   \n",
              "2            0            1.0                0%               0%   \n",
              "3            0            1.0                0%               0%   \n",
              "4            9            6.0               10%               0%   \n",
              "\n",
              "   Calcium (% DV)  Iron (% DV)  Caffeine (mg)  \n",
              "0               0%           0%           175  \n",
              "1               0%           0%           260  \n",
              "2               0%           0%           330  \n",
              "3               2%           0%           410  \n",
              "4              20%           0%            75  "
            ]
          },
          "execution_count": 3,
          "metadata": {},
          "output_type": "execute_result"
        }
      ],
      "source": [
        "drink_menu.head()"
      ]
    },
    {
      "cell_type": "markdown",
      "source": [
        "showing all dataset"
      ],
      "metadata": {
        "id": "wWkEHqwzjuOV"
      },
      "id": "wWkEHqwzjuOV"
    },
    {
      "cell_type": "code",
      "execution_count": null,
      "id": "0d8f7e5b",
      "metadata": {
        "id": "0d8f7e5b",
        "outputId": "e2f9b529-5e53-46de-9cdf-c768fb2c5d00"
      },
      "outputs": [
        {
          "data": {
            "text/html": [
              "<div>\n",
              "<style scoped>\n",
              "    .dataframe tbody tr th:only-of-type {\n",
              "        vertical-align: middle;\n",
              "    }\n",
              "\n",
              "    .dataframe tbody tr th {\n",
              "        vertical-align: top;\n",
              "    }\n",
              "\n",
              "    .dataframe thead th {\n",
              "        text-align: right;\n",
              "    }\n",
              "</style>\n",
              "<table border=\"1\" class=\"dataframe\">\n",
              "  <thead>\n",
              "    <tr style=\"text-align: right;\">\n",
              "      <th></th>\n",
              "      <th>Beverage_category</th>\n",
              "      <th>Beverage</th>\n",
              "      <th>Beverage_prep</th>\n",
              "      <th>Calories</th>\n",
              "      <th>Total Fat (g)</th>\n",
              "      <th>Trans Fat (g)</th>\n",
              "      <th>Saturated Fat (g)</th>\n",
              "      <th>Sodium (mg)</th>\n",
              "      <th>Total Carbohydrates (g)</th>\n",
              "      <th>Cholesterol (mg)</th>\n",
              "      <th>Dietary Fibre (g)</th>\n",
              "      <th>Sugars (g)</th>\n",
              "      <th>Protein (g)</th>\n",
              "      <th>Vitamin A (% DV)</th>\n",
              "      <th>Vitamin C (% DV)</th>\n",
              "      <th>Calcium (% DV)</th>\n",
              "      <th>Iron (% DV)</th>\n",
              "      <th>Caffeine (mg)</th>\n",
              "    </tr>\n",
              "  </thead>\n",
              "  <tbody>\n",
              "    <tr>\n",
              "      <th>0</th>\n",
              "      <td>Coffee</td>\n",
              "      <td>Brewed Coffee</td>\n",
              "      <td>Short</td>\n",
              "      <td>3</td>\n",
              "      <td>0.1</td>\n",
              "      <td>0.0</td>\n",
              "      <td>0.0</td>\n",
              "      <td>0</td>\n",
              "      <td>5</td>\n",
              "      <td>0</td>\n",
              "      <td>0</td>\n",
              "      <td>0</td>\n",
              "      <td>0.3</td>\n",
              "      <td>0%</td>\n",
              "      <td>0%</td>\n",
              "      <td>0%</td>\n",
              "      <td>0%</td>\n",
              "      <td>175</td>\n",
              "    </tr>\n",
              "    <tr>\n",
              "      <th>1</th>\n",
              "      <td>Coffee</td>\n",
              "      <td>Brewed Coffee</td>\n",
              "      <td>Tall</td>\n",
              "      <td>4</td>\n",
              "      <td>0.1</td>\n",
              "      <td>0.0</td>\n",
              "      <td>0.0</td>\n",
              "      <td>0</td>\n",
              "      <td>10</td>\n",
              "      <td>0</td>\n",
              "      <td>0</td>\n",
              "      <td>0</td>\n",
              "      <td>0.5</td>\n",
              "      <td>0%</td>\n",
              "      <td>0%</td>\n",
              "      <td>0%</td>\n",
              "      <td>0%</td>\n",
              "      <td>260</td>\n",
              "    </tr>\n",
              "    <tr>\n",
              "      <th>2</th>\n",
              "      <td>Coffee</td>\n",
              "      <td>Brewed Coffee</td>\n",
              "      <td>Grande</td>\n",
              "      <td>5</td>\n",
              "      <td>0.1</td>\n",
              "      <td>0.0</td>\n",
              "      <td>0.0</td>\n",
              "      <td>0</td>\n",
              "      <td>10</td>\n",
              "      <td>0</td>\n",
              "      <td>0</td>\n",
              "      <td>0</td>\n",
              "      <td>1.0</td>\n",
              "      <td>0%</td>\n",
              "      <td>0%</td>\n",
              "      <td>0%</td>\n",
              "      <td>0%</td>\n",
              "      <td>330</td>\n",
              "    </tr>\n",
              "    <tr>\n",
              "      <th>3</th>\n",
              "      <td>Coffee</td>\n",
              "      <td>Brewed Coffee</td>\n",
              "      <td>Venti</td>\n",
              "      <td>5</td>\n",
              "      <td>0.1</td>\n",
              "      <td>0.0</td>\n",
              "      <td>0.0</td>\n",
              "      <td>0</td>\n",
              "      <td>10</td>\n",
              "      <td>0</td>\n",
              "      <td>0</td>\n",
              "      <td>0</td>\n",
              "      <td>1.0</td>\n",
              "      <td>0%</td>\n",
              "      <td>0%</td>\n",
              "      <td>2%</td>\n",
              "      <td>0%</td>\n",
              "      <td>410</td>\n",
              "    </tr>\n",
              "    <tr>\n",
              "      <th>4</th>\n",
              "      <td>Classic Espresso Drinks</td>\n",
              "      <td>Caffè Latte</td>\n",
              "      <td>Short Nonfat Milk</td>\n",
              "      <td>70</td>\n",
              "      <td>0.1</td>\n",
              "      <td>0.1</td>\n",
              "      <td>0.0</td>\n",
              "      <td>5</td>\n",
              "      <td>75</td>\n",
              "      <td>10</td>\n",
              "      <td>0</td>\n",
              "      <td>9</td>\n",
              "      <td>6.0</td>\n",
              "      <td>10%</td>\n",
              "      <td>0%</td>\n",
              "      <td>20%</td>\n",
              "      <td>0%</td>\n",
              "      <td>75</td>\n",
              "    </tr>\n",
              "    <tr>\n",
              "      <th>...</th>\n",
              "      <td>...</td>\n",
              "      <td>...</td>\n",
              "      <td>...</td>\n",
              "      <td>...</td>\n",
              "      <td>...</td>\n",
              "      <td>...</td>\n",
              "      <td>...</td>\n",
              "      <td>...</td>\n",
              "      <td>...</td>\n",
              "      <td>...</td>\n",
              "      <td>...</td>\n",
              "      <td>...</td>\n",
              "      <td>...</td>\n",
              "      <td>...</td>\n",
              "      <td>...</td>\n",
              "      <td>...</td>\n",
              "      <td>...</td>\n",
              "      <td>...</td>\n",
              "    </tr>\n",
              "    <tr>\n",
              "      <th>237</th>\n",
              "      <td>Frappuccino® Blended Crème</td>\n",
              "      <td>Strawberries &amp; Crème (Without Whipped Cream)</td>\n",
              "      <td>Soymilk</td>\n",
              "      <td>320</td>\n",
              "      <td>3 2</td>\n",
              "      <td>0.4</td>\n",
              "      <td>0.0</td>\n",
              "      <td>0</td>\n",
              "      <td>250</td>\n",
              "      <td>67</td>\n",
              "      <td>1</td>\n",
              "      <td>64</td>\n",
              "      <td>5.0</td>\n",
              "      <td>6%</td>\n",
              "      <td>8%</td>\n",
              "      <td>20%</td>\n",
              "      <td>10%</td>\n",
              "      <td>0</td>\n",
              "    </tr>\n",
              "    <tr>\n",
              "      <th>238</th>\n",
              "      <td>Frappuccino® Blended Crème</td>\n",
              "      <td>Vanilla Bean (Without Whipped Cream)</td>\n",
              "      <td>Tall Nonfat Milk</td>\n",
              "      <td>170</td>\n",
              "      <td>0.1</td>\n",
              "      <td>0.1</td>\n",
              "      <td>0.0</td>\n",
              "      <td>0</td>\n",
              "      <td>160</td>\n",
              "      <td>39</td>\n",
              "      <td>0</td>\n",
              "      <td>38</td>\n",
              "      <td>4.0</td>\n",
              "      <td>6%</td>\n",
              "      <td>0%</td>\n",
              "      <td>10%</td>\n",
              "      <td>0%</td>\n",
              "      <td>0</td>\n",
              "    </tr>\n",
              "    <tr>\n",
              "      <th>239</th>\n",
              "      <td>Frappuccino® Blended Crème</td>\n",
              "      <td>Vanilla Bean (Without Whipped Cream)</td>\n",
              "      <td>Whole Milk</td>\n",
              "      <td>200</td>\n",
              "      <td>3.5</td>\n",
              "      <td>2.0</td>\n",
              "      <td>0.1</td>\n",
              "      <td>10</td>\n",
              "      <td>160</td>\n",
              "      <td>39</td>\n",
              "      <td>0</td>\n",
              "      <td>38</td>\n",
              "      <td>3.0</td>\n",
              "      <td>6%</td>\n",
              "      <td>0%</td>\n",
              "      <td>10%</td>\n",
              "      <td>0%</td>\n",
              "      <td>0</td>\n",
              "    </tr>\n",
              "    <tr>\n",
              "      <th>240</th>\n",
              "      <td>Frappuccino® Blended Crème</td>\n",
              "      <td>Vanilla Bean (Without Whipped Cream)</td>\n",
              "      <td>Soymilk</td>\n",
              "      <td>180</td>\n",
              "      <td>1.5</td>\n",
              "      <td>0.2</td>\n",
              "      <td>0.0</td>\n",
              "      <td>0</td>\n",
              "      <td>160</td>\n",
              "      <td>37</td>\n",
              "      <td>1</td>\n",
              "      <td>35</td>\n",
              "      <td>3.0</td>\n",
              "      <td>4%</td>\n",
              "      <td>0%</td>\n",
              "      <td>10%</td>\n",
              "      <td>6%</td>\n",
              "      <td>0</td>\n",
              "    </tr>\n",
              "    <tr>\n",
              "      <th>241</th>\n",
              "      <td>Frappuccino® Blended Crème</td>\n",
              "      <td>Vanilla Bean (Without Whipped Cream)</td>\n",
              "      <td>Grande Nonfat Milk</td>\n",
              "      <td>240</td>\n",
              "      <td>0.1</td>\n",
              "      <td>0.1</td>\n",
              "      <td>0.0</td>\n",
              "      <td>5</td>\n",
              "      <td>230</td>\n",
              "      <td>56</td>\n",
              "      <td>0</td>\n",
              "      <td>55</td>\n",
              "      <td>5.0</td>\n",
              "      <td>8%</td>\n",
              "      <td>0%</td>\n",
              "      <td>15%</td>\n",
              "      <td>0%</td>\n",
              "      <td>0</td>\n",
              "    </tr>\n",
              "  </tbody>\n",
              "</table>\n",
              "<p>242 rows × 18 columns</p>\n",
              "</div>"
            ],
            "text/plain": [
              "              Beverage_category                                      Beverage  \\\n",
              "0                        Coffee                                 Brewed Coffee   \n",
              "1                        Coffee                                 Brewed Coffee   \n",
              "2                        Coffee                                 Brewed Coffee   \n",
              "3                        Coffee                                 Brewed Coffee   \n",
              "4       Classic Espresso Drinks                                   Caffè Latte   \n",
              "..                          ...                                           ...   \n",
              "237  Frappuccino® Blended Crème  Strawberries & Crème (Without Whipped Cream)   \n",
              "238  Frappuccino® Blended Crème          Vanilla Bean (Without Whipped Cream)   \n",
              "239  Frappuccino® Blended Crème          Vanilla Bean (Without Whipped Cream)   \n",
              "240  Frappuccino® Blended Crème          Vanilla Bean (Without Whipped Cream)   \n",
              "241  Frappuccino® Blended Crème          Vanilla Bean (Without Whipped Cream)   \n",
              "\n",
              "          Beverage_prep  Calories  Total Fat (g)  Trans Fat (g)   \\\n",
              "0                 Short         3            0.1             0.0   \n",
              "1                  Tall         4            0.1             0.0   \n",
              "2                Grande         5            0.1             0.0   \n",
              "3                 Venti         5            0.1             0.0   \n",
              "4     Short Nonfat Milk        70            0.1             0.1   \n",
              "..                  ...       ...            ...             ...   \n",
              "237             Soymilk       320            3 2             0.4   \n",
              "238    Tall Nonfat Milk       170            0.1             0.1   \n",
              "239          Whole Milk       200            3.5             2.0   \n",
              "240             Soymilk       180            1.5             0.2   \n",
              "241  Grande Nonfat Milk       240            0.1             0.1   \n",
              "\n",
              "     Saturated Fat (g)   Sodium (mg)   Total Carbohydrates (g)   \\\n",
              "0                  0.0             0                          5   \n",
              "1                  0.0             0                         10   \n",
              "2                  0.0             0                         10   \n",
              "3                  0.0             0                         10   \n",
              "4                  0.0             5                         75   \n",
              "..                 ...           ...                        ...   \n",
              "237                0.0             0                        250   \n",
              "238                0.0             0                        160   \n",
              "239                0.1            10                        160   \n",
              "240                0.0             0                        160   \n",
              "241                0.0             5                        230   \n",
              "\n",
              "     Cholesterol (mg)   Dietary Fibre (g)   Sugars (g)   Protein (g)   \\\n",
              "0                   0                   0            0            0.3   \n",
              "1                   0                   0            0            0.5   \n",
              "2                   0                   0            0            1.0   \n",
              "3                   0                   0            0            1.0   \n",
              "4                  10                   0            9            6.0   \n",
              "..                ...                 ...          ...            ...   \n",
              "237                67                   1           64            5.0   \n",
              "238                39                   0           38            4.0   \n",
              "239                39                   0           38            3.0   \n",
              "240                37                   1           35            3.0   \n",
              "241                56                   0           55            5.0   \n",
              "\n",
              "    Vitamin A (% DV)  Vitamin C (% DV)  Calcium (% DV)  Iron (% DV)   \\\n",
              "0                  0%               0%               0%           0%   \n",
              "1                  0%               0%               0%           0%   \n",
              "2                  0%               0%               0%           0%   \n",
              "3                  0%               0%               2%           0%   \n",
              "4                 10%               0%              20%           0%   \n",
              "..                ...              ...              ...          ...   \n",
              "237                6%               8%              20%          10%   \n",
              "238                6%               0%              10%           0%   \n",
              "239                6%               0%              10%           0%   \n",
              "240                4%               0%              10%           6%   \n",
              "241                8%               0%              15%           0%   \n",
              "\n",
              "    Caffeine (mg)  \n",
              "0             175  \n",
              "1             260  \n",
              "2             330  \n",
              "3             410  \n",
              "4              75  \n",
              "..            ...  \n",
              "237             0  \n",
              "238             0  \n",
              "239             0  \n",
              "240             0  \n",
              "241             0  \n",
              "\n",
              "[242 rows x 18 columns]"
            ]
          },
          "execution_count": 4,
          "metadata": {},
          "output_type": "execute_result"
        }
      ],
      "source": [
        "drink_menu"
      ]
    },
    {
      "cell_type": "markdown",
      "id": "73d1ba59",
      "metadata": {
        "id": "73d1ba59"
      },
      "source": [
        "# getting some info about dataset"
      ]
    },
    {
      "cell_type": "code",
      "execution_count": null,
      "id": "3f51ea0a",
      "metadata": {
        "id": "3f51ea0a",
        "outputId": "02657257-faec-43f4-89e8-5792d21b3178"
      },
      "outputs": [
        {
          "name": "stdout",
          "output_type": "stream",
          "text": [
            "<class 'pandas.core.frame.DataFrame'>\n",
            "RangeIndex: 242 entries, 0 to 241\n",
            "Data columns (total 18 columns):\n",
            " #   Column                     Non-Null Count  Dtype  \n",
            "---  ------                     --------------  -----  \n",
            " 0   Beverage_category          242 non-null    object \n",
            " 1   Beverage                   242 non-null    object \n",
            " 2   Beverage_prep              242 non-null    object \n",
            " 3   Calories                   242 non-null    int64  \n",
            " 4    Total Fat (g)             242 non-null    object \n",
            " 5   Trans Fat (g)              242 non-null    float64\n",
            " 6   Saturated Fat (g)          242 non-null    float64\n",
            " 7    Sodium (mg)               242 non-null    int64  \n",
            " 8    Total Carbohydrates (g)   242 non-null    int64  \n",
            " 9   Cholesterol (mg)           242 non-null    int64  \n",
            " 10   Dietary Fibre (g)         242 non-null    int64  \n",
            " 11   Sugars (g)                242 non-null    int64  \n",
            " 12   Protein (g)               242 non-null    float64\n",
            " 13  Vitamin A (% DV)           242 non-null    object \n",
            " 14  Vitamin C (% DV)           242 non-null    object \n",
            " 15   Calcium (% DV)            242 non-null    object \n",
            " 16  Iron (% DV)                242 non-null    object \n",
            " 17  Caffeine (mg)              241 non-null    object \n",
            "dtypes: float64(3), int64(6), object(9)\n",
            "memory usage: 34.2+ KB\n"
          ]
        }
      ],
      "source": [
        "drink_menu.info()"
      ]
    },
    {
      "cell_type": "markdown",
      "id": "b4253f39",
      "metadata": {
        "id": "b4253f39"
      },
      "source": [
        "# checking duplicated row in dataset"
      ]
    },
    {
      "cell_type": "code",
      "execution_count": null,
      "id": "45feceff",
      "metadata": {
        "id": "45feceff",
        "outputId": "7d4e4b44-aa4f-49ec-f9b0-1f9e1b190489"
      },
      "outputs": [
        {
          "data": {
            "text/plain": [
              "0      False\n",
              "1      False\n",
              "2      False\n",
              "3      False\n",
              "4      False\n",
              "       ...  \n",
              "237    False\n",
              "238    False\n",
              "239    False\n",
              "240    False\n",
              "241    False\n",
              "Length: 242, dtype: bool"
            ]
          },
          "execution_count": 6,
          "metadata": {},
          "output_type": "execute_result"
        }
      ],
      "source": [
        "drink_menu.duplicated()"
      ]
    },
    {
      "cell_type": "code",
      "execution_count": null,
      "id": "f17dc458",
      "metadata": {
        "id": "f17dc458",
        "outputId": "53425f78-383d-4f12-a75b-f1980c406c28"
      },
      "outputs": [
        {
          "data": {
            "text/plain": [
              "0"
            ]
          },
          "execution_count": 7,
          "metadata": {},
          "output_type": "execute_result"
        }
      ],
      "source": [
        "drink_menu.duplicated().sum()"
      ]
    },
    {
      "cell_type": "markdown",
      "id": "1c7fc165",
      "metadata": {
        "id": "1c7fc165"
      },
      "source": [
        "I found no duplicated row in data."
      ]
    },
    {
      "cell_type": "markdown",
      "id": "afa9ccab",
      "metadata": {
        "id": "afa9ccab"
      },
      "source": [
        "# checking null values in  dataset"
      ]
    },
    {
      "cell_type": "code",
      "execution_count": null,
      "id": "49fc0e61",
      "metadata": {
        "id": "49fc0e61",
        "outputId": "f53693a2-36aa-4fe6-ac2c-e4145d6e3d75"
      },
      "outputs": [
        {
          "data": {
            "text/plain": [
              "Beverage_category            0\n",
              "Beverage                     0\n",
              "Beverage_prep                0\n",
              "Calories                     0\n",
              " Total Fat (g)               0\n",
              "Trans Fat (g)                0\n",
              "Saturated Fat (g)            0\n",
              " Sodium (mg)                 0\n",
              " Total Carbohydrates (g)     0\n",
              "Cholesterol (mg)             0\n",
              " Dietary Fibre (g)           0\n",
              " Sugars (g)                  0\n",
              " Protein (g)                 0\n",
              "Vitamin A (% DV)             0\n",
              "Vitamin C (% DV)             0\n",
              " Calcium (% DV)              0\n",
              "Iron (% DV)                  0\n",
              "Caffeine (mg)                1\n",
              "dtype: int64"
            ]
          },
          "execution_count": 8,
          "metadata": {},
          "output_type": "execute_result"
        }
      ],
      "source": [
        "drink_menu.isnull().sum()"
      ]
    },
    {
      "cell_type": "code",
      "execution_count": null,
      "id": "20e6859d",
      "metadata": {
        "id": "20e6859d",
        "outputId": "f983adfe-cd57-4315-9705-bfc36c44cbf0"
      },
      "outputs": [
        {
          "data": {
            "text/plain": [
              "array(['175', '260', '330', '410', '75', '150', '85', '95', '180', '225',\n",
              "       '300', '10', '20', '25', '30', '0', 'Varies', '50', '70', '120',\n",
              "       '55', '80', '110', 'varies', '165', '235', '90', nan, '125', '170',\n",
              "       '15', '130', '140', '100', '145', '65', '105'], dtype=object)"
            ]
          },
          "execution_count": 9,
          "metadata": {},
          "output_type": "execute_result"
        }
      ],
      "source": [
        "drink_menu['Caffeine (mg)'].unique()"
      ]
    },
    {
      "cell_type": "markdown",
      "id": "73002da2",
      "metadata": {
        "id": "73002da2"
      },
      "source": [
        "I found missing spelling in some value in Caffeine (mg) column ('Varies','varies') so replace Varies with varies"
      ]
    },
    {
      "cell_type": "code",
      "execution_count": null,
      "id": "943bf5fc",
      "metadata": {
        "id": "943bf5fc"
      },
      "outputs": [],
      "source": [
        "drink_menu['Caffeine (mg)'].replace('Varies','varies', inplace=True)"
      ]
    },
    {
      "cell_type": "markdown",
      "id": "c77ac9d8",
      "metadata": {
        "id": "c77ac9d8"
      },
      "source": [
        "# checking unique value in Caffeine (mg) column"
      ]
    },
    {
      "cell_type": "code",
      "execution_count": null,
      "id": "8920996d",
      "metadata": {
        "id": "8920996d",
        "outputId": "c687c876-b2b3-4f4b-f788-8f8e1634b866"
      },
      "outputs": [
        {
          "data": {
            "text/plain": [
              "array(['175', '260', '330', '410', '75', '150', '85', '95', '180', '225',\n",
              "       '300', '10', '20', '25', '30', '0', 'varies', '50', '70', '120',\n",
              "       '55', '80', '110', '165', '235', '90', nan, '125', '170', '15',\n",
              "       '130', '140', '100', '145', '65', '105'], dtype=object)"
            ]
          },
          "execution_count": 11,
          "metadata": {},
          "output_type": "execute_result"
        }
      ],
      "source": [
        "drink_menu['Caffeine (mg)'].unique()"
      ]
    },
    {
      "cell_type": "markdown",
      "id": "3c485960",
      "metadata": {
        "id": "3c485960"
      },
      "source": [
        "I found one vlaue with null so the data is very clear. I fill null value with mode methode because Caffeine (mg) column is type of objet and I can not rplace varies with any value because it is not specific vlue so if replace varies with any value may affect on phase of machine learning  "
      ]
    },
    {
      "cell_type": "code",
      "execution_count": null,
      "id": "1e2a2cf5",
      "metadata": {
        "id": "1e2a2cf5"
      },
      "outputs": [],
      "source": [
        "drink_menu['Caffeine (mg)'].fillna((drink_menu['Caffeine (mg)'].mode()[0]), inplace=True)"
      ]
    },
    {
      "cell_type": "markdown",
      "id": "785e1062",
      "metadata": {
        "id": "785e1062"
      },
      "source": [
        "# check unique value in Caffeine (mg) column after replacing null value"
      ]
    },
    {
      "cell_type": "code",
      "execution_count": null,
      "id": "02964773",
      "metadata": {
        "id": "02964773",
        "outputId": "dac88268-df82-4b6b-bf93-e6aee7a459e0"
      },
      "outputs": [
        {
          "data": {
            "text/plain": [
              "array(['175', '260', '330', '410', '75', '150', '85', '95', '180', '225',\n",
              "       '300', '10', '20', '25', '30', '0', 'varies', '50', '70', '120',\n",
              "       '55', '80', '110', '165', '235', '90', '125', '170', '15', '130',\n",
              "       '140', '100', '145', '65', '105'], dtype=object)"
            ]
          },
          "execution_count": 13,
          "metadata": {},
          "output_type": "execute_result"
        }
      ],
      "source": [
        "drink_menu['Caffeine (mg)'].unique()"
      ]
    },
    {
      "cell_type": "markdown",
      "id": "a96306a4",
      "metadata": {
        "id": "a96306a4"
      },
      "source": [
        "# checking duplicated row in dataset  after replacing null values"
      ]
    },
    {
      "cell_type": "code",
      "execution_count": null,
      "id": "c5a6dcdf",
      "metadata": {
        "id": "c5a6dcdf",
        "outputId": "693cfcb0-3612-4665-a338-97ef76a28623"
      },
      "outputs": [
        {
          "data": {
            "text/plain": [
              "0      False\n",
              "1      False\n",
              "2      False\n",
              "3      False\n",
              "4      False\n",
              "       ...  \n",
              "237    False\n",
              "238    False\n",
              "239    False\n",
              "240    False\n",
              "241    False\n",
              "Length: 242, dtype: bool"
            ]
          },
          "execution_count": 14,
          "metadata": {},
          "output_type": "execute_result"
        }
      ],
      "source": [
        "drink_menu.duplicated()"
      ]
    },
    {
      "cell_type": "code",
      "execution_count": null,
      "id": "446ab104",
      "metadata": {
        "id": "446ab104",
        "outputId": "ff23f48c-f2c6-4831-deb2-b3041345772a"
      },
      "outputs": [
        {
          "data": {
            "text/plain": [
              "0"
            ]
          },
          "execution_count": 15,
          "metadata": {},
          "output_type": "execute_result"
        }
      ],
      "source": [
        "drink_menu.duplicated().sum()"
      ]
    },
    {
      "cell_type": "markdown",
      "id": "d63fbdfe",
      "metadata": {
        "id": "d63fbdfe"
      },
      "source": [
        "# Dropping unnecessary Columns"
      ]
    },
    {
      "cell_type": "markdown",
      "id": "688888d1",
      "metadata": {
        "id": "688888d1"
      },
      "source": [
        "# firstly, checking all columns which have one value"
      ]
    },
    {
      "cell_type": "code",
      "execution_count": null,
      "id": "68d2db73",
      "metadata": {
        "id": "68d2db73",
        "outputId": "7b7681f4-b385-4c1c-cd51-89b80ab4d8e3"
      },
      "outputs": [
        {
          "data": {
            "text/plain": [
              "[]"
            ]
          },
          "execution_count": 16,
          "metadata": {},
          "output_type": "execute_result"
        }
      ],
      "source": [
        "drink_menu.columns[drink_menu.nunique()==1].tolist()"
      ]
    },
    {
      "cell_type": "markdown",
      "id": "0c231c78",
      "metadata": {
        "id": "0c231c78"
      },
      "source": [
        "After checking I found no coulmn has one value so all column is important but I try another another strategy to make sure some column is important or not."
      ]
    },
    {
      "cell_type": "markdown",
      "id": "6da9a114",
      "metadata": {
        "id": "6da9a114"
      },
      "source": [
        "# secondly, checking some columns which have huge difference between  count values"
      ]
    },
    {
      "cell_type": "code",
      "execution_count": null,
      "id": "ca1ca352",
      "metadata": {
        "id": "ca1ca352",
        "outputId": "1ddec164-ecf0-4959-912e-991d732c5f79"
      },
      "outputs": [
        {
          "data": {
            "text/plain": [
              "0    141\n",
              "1     60\n",
              "2     25\n",
              "7      5\n",
              "3      4\n",
              "4      3\n",
              "6      3\n",
              "8      1\n",
              "Name:  Dietary Fibre (g), dtype: int64"
            ]
          },
          "execution_count": 17,
          "metadata": {},
          "output_type": "execute_result"
        }
      ],
      "source": [
        "drink_menu[' Dietary Fibre (g)'].value_counts()"
      ]
    },
    {
      "cell_type": "code",
      "execution_count": null,
      "id": "c4bf6932",
      "metadata": {
        "id": "c4bf6932",
        "outputId": "a12d48cf-d00d-4a6a-a3be-a89fd70317f1"
      },
      "outputs": [
        {
          "data": {
            "text/plain": [
              "0.1    34\n",
              "0      21\n",
              "1.5    16\n",
              "5      15\n",
              "3      15\n",
              "4      14\n",
              "0.2    14\n",
              "1      13\n",
              "2.5    13\n",
              "6      13\n",
              "3.5    12\n",
              "7      10\n",
              "2      10\n",
              "4.5     9\n",
              "0.3     6\n",
              "8       6\n",
              "9       6\n",
              "0.5     4\n",
              "11      3\n",
              "10      3\n",
              "0.4     2\n",
              "15      1\n",
              "13      1\n",
              "3 2     1\n",
              "Name:  Total Fat (g), dtype: int64"
            ]
          },
          "execution_count": 18,
          "metadata": {},
          "output_type": "execute_result"
        }
      ],
      "source": [
        "drink_menu[' Total Fat (g)'].value_counts()"
      ]
    },
    {
      "cell_type": "code",
      "execution_count": null,
      "id": "6b594f4a",
      "metadata": {
        "id": "6b594f4a",
        "outputId": "78b9d8f0-cca0-4693-bf91-bd1689f3ea8c"
      },
      "outputs": [
        {
          "data": {
            "text/plain": [
              "0.1    36\n",
              "0.0    33\n",
              "0.2    22\n",
              "1.0    21\n",
              "2.0    20\n",
              "0.5    20\n",
              "1.5    16\n",
              "0.4    12\n",
              "3.5    11\n",
              "2.5    10\n",
              "3.0    10\n",
              "0.3    10\n",
              "4.5     6\n",
              "6.0     5\n",
              "5.0     4\n",
              "4.0     3\n",
              "7.0     2\n",
              "9.0     1\n",
              "Name: Trans Fat (g) , dtype: int64"
            ]
          },
          "execution_count": 19,
          "metadata": {},
          "output_type": "execute_result"
        }
      ],
      "source": [
        "drink_menu['Trans Fat (g) '].value_counts()"
      ]
    },
    {
      "cell_type": "code",
      "execution_count": null,
      "id": "dff3499c",
      "metadata": {
        "id": "dff3499c",
        "outputId": "45e0baea-358a-4fa9-9bb7-f0eb7b18e7ca"
      },
      "outputs": [
        {
          "data": {
            "text/plain": [
              "0.0    180\n",
              "0.1     37\n",
              "0.2     21\n",
              "0.3      4\n",
              "Name: Saturated Fat (g), dtype: int64"
            ]
          },
          "execution_count": 20,
          "metadata": {},
          "output_type": "execute_result"
        }
      ],
      "source": [
        "drink_menu['Saturated Fat (g)'].value_counts()"
      ]
    },
    {
      "cell_type": "code",
      "execution_count": null,
      "id": "4693b9a0",
      "metadata": {
        "id": "4693b9a0",
        "outputId": "05bc9b7d-288b-4106-876d-915073b8ca13"
      },
      "outputs": [
        {
          "data": {
            "text/plain": [
              "10%    43\n",
              "6%     37\n",
              "4%     37\n",
              "15%    36\n",
              "0%     27\n",
              "8%     23\n",
              "20%    18\n",
              "25%    11\n",
              "2%      5\n",
              "50%     3\n",
              "30%     2\n",
              "Name: Vitamin A (% DV) , dtype: int64"
            ]
          },
          "execution_count": 21,
          "metadata": {},
          "output_type": "execute_result"
        }
      ],
      "source": [
        "drink_menu['Vitamin A (% DV) '].value_counts()"
      ]
    },
    {
      "cell_type": "code",
      "execution_count": null,
      "id": "f4fe1e19",
      "metadata": {
        "id": "f4fe1e19",
        "outputId": "272fc4fc-d97e-4f71-fbf5-b71352fda9a8"
      },
      "outputs": [
        {
          "data": {
            "text/plain": [
              "Soymilk               66\n",
              "2% Milk               50\n",
              "Grande Nonfat Milk    26\n",
              "Tall Nonfat Milk      23\n",
              "Venti Nonfat Milk     22\n",
              "Whole Milk            16\n",
              "Short Nonfat Milk     12\n",
              "Tall                   7\n",
              "Grande                 7\n",
              "Venti                  7\n",
              "Short                  4\n",
              "Solo                   1\n",
              "Doppio                 1\n",
              "Name: Beverage_prep, dtype: int64"
            ]
          },
          "execution_count": 22,
          "metadata": {},
          "output_type": "execute_result"
        }
      ],
      "source": [
        "drink_menu['Beverage_prep'].value_counts()"
      ]
    },
    {
      "cell_type": "markdown",
      "id": "4f5ad805",
      "metadata": {
        "id": "4f5ad805"
      },
      "source": [
        "After Applying value_counts on some column , I found not difference in value_counts for some column so all column is important but I try another strategy to make sure some column is important or not."
      ]
    },
    {
      "cell_type": "markdown",
      "id": "25cab52e",
      "metadata": {
        "id": "25cab52e"
      },
      "source": [
        "# Third, cheking some columns with label column"
      ]
    },
    {
      "cell_type": "markdown",
      "id": "834e603d",
      "metadata": {
        "id": "834e603d"
      },
      "source": [
        "Assuming this dataset is used to classify Beverage_category so Beverage_category is label column. I prepare dataset to check correlation between columns with label column.\t"
      ]
    },
    {
      "cell_type": "code",
      "execution_count": null,
      "id": "c65d2827",
      "metadata": {
        "id": "c65d2827",
        "outputId": "d675390f-9d6e-48ea-d2b8-4dce64f6b0e4"
      },
      "outputs": [
        {
          "data": {
            "text/plain": [
              "array(['0.1', '3.5', '2.5', '0.2', '6', '4.5', '0.3', '7', '5', '0.4',\n",
              "       '9', '1.5', '4', '2', '8', '3', '11', '0', '1', '10', '15', '13',\n",
              "       '0.5', '3 2'], dtype=object)"
            ]
          },
          "execution_count": 23,
          "metadata": {},
          "output_type": "execute_result"
        }
      ],
      "source": [
        "drink_menu[' Total Fat (g)'].unique()"
      ]
    },
    {
      "cell_type": "markdown",
      "id": "c6e98e00",
      "metadata": {
        "id": "c6e98e00"
      },
      "source": [
        "After checking unique value of Total Fat (g) column, I found replace '3 2' with '32'"
      ]
    },
    {
      "cell_type": "code",
      "execution_count": null,
      "id": "1d02a5fd",
      "metadata": {
        "id": "1d02a5fd"
      },
      "outputs": [],
      "source": [
        "drink_menu[' Total Fat (g)'].replace('3 2','32', inplace=True)"
      ]
    },
    {
      "cell_type": "markdown",
      "id": "53ffc7fa",
      "metadata": {
        "id": "53ffc7fa"
      },
      "source": [
        "convert Total Fat (g) coulmn from object type to float type"
      ]
    },
    {
      "cell_type": "code",
      "execution_count": null,
      "id": "a235a580",
      "metadata": {
        "id": "a235a580"
      },
      "outputs": [],
      "source": [
        "drink_menu[' Total Fat (g)']=drink_menu[' Total Fat (g)'].astype(float)"
      ]
    },
    {
      "cell_type": "markdown",
      "id": "e148bb34",
      "metadata": {
        "id": "e148bb34"
      },
      "source": [
        "removing % in four columns which are Vitamin A (% DV),Vitamin C (% DV),Calcium (% DV) and Iron (% DV)"
      ]
    },
    {
      "cell_type": "code",
      "execution_count": null,
      "id": "a9dcf172",
      "metadata": {
        "id": "a9dcf172"
      },
      "outputs": [],
      "source": [
        "def get_Percentage(x): \n",
        "    match=re.findall(r'\\d+%', str(x))\n",
        "    if match is None:\n",
        "        return None\n",
        "    else:\n",
        "        for i in range(0,len(match)):\n",
        "            return float(str(match[i]).rstrip(\"%\"))"
      ]
    },
    {
      "cell_type": "code",
      "execution_count": null,
      "id": "a3697433",
      "metadata": {
        "id": "a3697433"
      },
      "outputs": [],
      "source": [
        "drink_menu['Vitamin A (% DV) '] = drink_menu['Vitamin A (% DV) '].apply(get_Percentage)\n",
        "drink_menu['Vitamin C (% DV)'] = drink_menu['Vitamin C (% DV)'].apply(get_Percentage)\n",
        "drink_menu[' Calcium (% DV) '] = drink_menu[' Calcium (% DV) '].apply(get_Percentage) \n",
        "drink_menu['Iron (% DV) '] = drink_menu['Iron (% DV) '].apply(get_Percentage)"
      ]
    },
    {
      "cell_type": "markdown",
      "id": "6e01a825",
      "metadata": {
        "id": "6e01a825"
      },
      "source": [
        "# checking dataset after removing %"
      ]
    },
    {
      "cell_type": "code",
      "execution_count": null,
      "id": "1bb7c8da",
      "metadata": {
        "id": "1bb7c8da",
        "outputId": "3986dcdc-ba9a-4297-d11c-35527fa53c47"
      },
      "outputs": [
        {
          "data": {
            "text/html": [
              "<div>\n",
              "<style scoped>\n",
              "    .dataframe tbody tr th:only-of-type {\n",
              "        vertical-align: middle;\n",
              "    }\n",
              "\n",
              "    .dataframe tbody tr th {\n",
              "        vertical-align: top;\n",
              "    }\n",
              "\n",
              "    .dataframe thead th {\n",
              "        text-align: right;\n",
              "    }\n",
              "</style>\n",
              "<table border=\"1\" class=\"dataframe\">\n",
              "  <thead>\n",
              "    <tr style=\"text-align: right;\">\n",
              "      <th></th>\n",
              "      <th>Beverage_category</th>\n",
              "      <th>Beverage</th>\n",
              "      <th>Beverage_prep</th>\n",
              "      <th>Calories</th>\n",
              "      <th>Total Fat (g)</th>\n",
              "      <th>Trans Fat (g)</th>\n",
              "      <th>Saturated Fat (g)</th>\n",
              "      <th>Sodium (mg)</th>\n",
              "      <th>Total Carbohydrates (g)</th>\n",
              "      <th>Cholesterol (mg)</th>\n",
              "      <th>Dietary Fibre (g)</th>\n",
              "      <th>Sugars (g)</th>\n",
              "      <th>Protein (g)</th>\n",
              "      <th>Vitamin A (% DV)</th>\n",
              "      <th>Vitamin C (% DV)</th>\n",
              "      <th>Calcium (% DV)</th>\n",
              "      <th>Iron (% DV)</th>\n",
              "      <th>Caffeine (mg)</th>\n",
              "    </tr>\n",
              "  </thead>\n",
              "  <tbody>\n",
              "    <tr>\n",
              "      <th>0</th>\n",
              "      <td>Coffee</td>\n",
              "      <td>Brewed Coffee</td>\n",
              "      <td>Short</td>\n",
              "      <td>3</td>\n",
              "      <td>0.1</td>\n",
              "      <td>0.0</td>\n",
              "      <td>0.0</td>\n",
              "      <td>0</td>\n",
              "      <td>5</td>\n",
              "      <td>0</td>\n",
              "      <td>0</td>\n",
              "      <td>0</td>\n",
              "      <td>0.3</td>\n",
              "      <td>0.0</td>\n",
              "      <td>0.0</td>\n",
              "      <td>0.0</td>\n",
              "      <td>0.0</td>\n",
              "      <td>175</td>\n",
              "    </tr>\n",
              "    <tr>\n",
              "      <th>1</th>\n",
              "      <td>Coffee</td>\n",
              "      <td>Brewed Coffee</td>\n",
              "      <td>Tall</td>\n",
              "      <td>4</td>\n",
              "      <td>0.1</td>\n",
              "      <td>0.0</td>\n",
              "      <td>0.0</td>\n",
              "      <td>0</td>\n",
              "      <td>10</td>\n",
              "      <td>0</td>\n",
              "      <td>0</td>\n",
              "      <td>0</td>\n",
              "      <td>0.5</td>\n",
              "      <td>0.0</td>\n",
              "      <td>0.0</td>\n",
              "      <td>0.0</td>\n",
              "      <td>0.0</td>\n",
              "      <td>260</td>\n",
              "    </tr>\n",
              "    <tr>\n",
              "      <th>2</th>\n",
              "      <td>Coffee</td>\n",
              "      <td>Brewed Coffee</td>\n",
              "      <td>Grande</td>\n",
              "      <td>5</td>\n",
              "      <td>0.1</td>\n",
              "      <td>0.0</td>\n",
              "      <td>0.0</td>\n",
              "      <td>0</td>\n",
              "      <td>10</td>\n",
              "      <td>0</td>\n",
              "      <td>0</td>\n",
              "      <td>0</td>\n",
              "      <td>1.0</td>\n",
              "      <td>0.0</td>\n",
              "      <td>0.0</td>\n",
              "      <td>0.0</td>\n",
              "      <td>0.0</td>\n",
              "      <td>330</td>\n",
              "    </tr>\n",
              "    <tr>\n",
              "      <th>3</th>\n",
              "      <td>Coffee</td>\n",
              "      <td>Brewed Coffee</td>\n",
              "      <td>Venti</td>\n",
              "      <td>5</td>\n",
              "      <td>0.1</td>\n",
              "      <td>0.0</td>\n",
              "      <td>0.0</td>\n",
              "      <td>0</td>\n",
              "      <td>10</td>\n",
              "      <td>0</td>\n",
              "      <td>0</td>\n",
              "      <td>0</td>\n",
              "      <td>1.0</td>\n",
              "      <td>0.0</td>\n",
              "      <td>0.0</td>\n",
              "      <td>2.0</td>\n",
              "      <td>0.0</td>\n",
              "      <td>410</td>\n",
              "    </tr>\n",
              "    <tr>\n",
              "      <th>4</th>\n",
              "      <td>Classic Espresso Drinks</td>\n",
              "      <td>Caffè Latte</td>\n",
              "      <td>Short Nonfat Milk</td>\n",
              "      <td>70</td>\n",
              "      <td>0.1</td>\n",
              "      <td>0.1</td>\n",
              "      <td>0.0</td>\n",
              "      <td>5</td>\n",
              "      <td>75</td>\n",
              "      <td>10</td>\n",
              "      <td>0</td>\n",
              "      <td>9</td>\n",
              "      <td>6.0</td>\n",
              "      <td>10.0</td>\n",
              "      <td>0.0</td>\n",
              "      <td>20.0</td>\n",
              "      <td>0.0</td>\n",
              "      <td>75</td>\n",
              "    </tr>\n",
              "    <tr>\n",
              "      <th>...</th>\n",
              "      <td>...</td>\n",
              "      <td>...</td>\n",
              "      <td>...</td>\n",
              "      <td>...</td>\n",
              "      <td>...</td>\n",
              "      <td>...</td>\n",
              "      <td>...</td>\n",
              "      <td>...</td>\n",
              "      <td>...</td>\n",
              "      <td>...</td>\n",
              "      <td>...</td>\n",
              "      <td>...</td>\n",
              "      <td>...</td>\n",
              "      <td>...</td>\n",
              "      <td>...</td>\n",
              "      <td>...</td>\n",
              "      <td>...</td>\n",
              "      <td>...</td>\n",
              "    </tr>\n",
              "    <tr>\n",
              "      <th>237</th>\n",
              "      <td>Frappuccino® Blended Crème</td>\n",
              "      <td>Strawberries &amp; Crème (Without Whipped Cream)</td>\n",
              "      <td>Soymilk</td>\n",
              "      <td>320</td>\n",
              "      <td>32.0</td>\n",
              "      <td>0.4</td>\n",
              "      <td>0.0</td>\n",
              "      <td>0</td>\n",
              "      <td>250</td>\n",
              "      <td>67</td>\n",
              "      <td>1</td>\n",
              "      <td>64</td>\n",
              "      <td>5.0</td>\n",
              "      <td>6.0</td>\n",
              "      <td>8.0</td>\n",
              "      <td>20.0</td>\n",
              "      <td>10.0</td>\n",
              "      <td>0</td>\n",
              "    </tr>\n",
              "    <tr>\n",
              "      <th>238</th>\n",
              "      <td>Frappuccino® Blended Crème</td>\n",
              "      <td>Vanilla Bean (Without Whipped Cream)</td>\n",
              "      <td>Tall Nonfat Milk</td>\n",
              "      <td>170</td>\n",
              "      <td>0.1</td>\n",
              "      <td>0.1</td>\n",
              "      <td>0.0</td>\n",
              "      <td>0</td>\n",
              "      <td>160</td>\n",
              "      <td>39</td>\n",
              "      <td>0</td>\n",
              "      <td>38</td>\n",
              "      <td>4.0</td>\n",
              "      <td>6.0</td>\n",
              "      <td>0.0</td>\n",
              "      <td>10.0</td>\n",
              "      <td>0.0</td>\n",
              "      <td>0</td>\n",
              "    </tr>\n",
              "    <tr>\n",
              "      <th>239</th>\n",
              "      <td>Frappuccino® Blended Crème</td>\n",
              "      <td>Vanilla Bean (Without Whipped Cream)</td>\n",
              "      <td>Whole Milk</td>\n",
              "      <td>200</td>\n",
              "      <td>3.5</td>\n",
              "      <td>2.0</td>\n",
              "      <td>0.1</td>\n",
              "      <td>10</td>\n",
              "      <td>160</td>\n",
              "      <td>39</td>\n",
              "      <td>0</td>\n",
              "      <td>38</td>\n",
              "      <td>3.0</td>\n",
              "      <td>6.0</td>\n",
              "      <td>0.0</td>\n",
              "      <td>10.0</td>\n",
              "      <td>0.0</td>\n",
              "      <td>0</td>\n",
              "    </tr>\n",
              "    <tr>\n",
              "      <th>240</th>\n",
              "      <td>Frappuccino® Blended Crème</td>\n",
              "      <td>Vanilla Bean (Without Whipped Cream)</td>\n",
              "      <td>Soymilk</td>\n",
              "      <td>180</td>\n",
              "      <td>1.5</td>\n",
              "      <td>0.2</td>\n",
              "      <td>0.0</td>\n",
              "      <td>0</td>\n",
              "      <td>160</td>\n",
              "      <td>37</td>\n",
              "      <td>1</td>\n",
              "      <td>35</td>\n",
              "      <td>3.0</td>\n",
              "      <td>4.0</td>\n",
              "      <td>0.0</td>\n",
              "      <td>10.0</td>\n",
              "      <td>6.0</td>\n",
              "      <td>0</td>\n",
              "    </tr>\n",
              "    <tr>\n",
              "      <th>241</th>\n",
              "      <td>Frappuccino® Blended Crème</td>\n",
              "      <td>Vanilla Bean (Without Whipped Cream)</td>\n",
              "      <td>Grande Nonfat Milk</td>\n",
              "      <td>240</td>\n",
              "      <td>0.1</td>\n",
              "      <td>0.1</td>\n",
              "      <td>0.0</td>\n",
              "      <td>5</td>\n",
              "      <td>230</td>\n",
              "      <td>56</td>\n",
              "      <td>0</td>\n",
              "      <td>55</td>\n",
              "      <td>5.0</td>\n",
              "      <td>8.0</td>\n",
              "      <td>0.0</td>\n",
              "      <td>15.0</td>\n",
              "      <td>0.0</td>\n",
              "      <td>0</td>\n",
              "    </tr>\n",
              "  </tbody>\n",
              "</table>\n",
              "<p>242 rows × 18 columns</p>\n",
              "</div>"
            ],
            "text/plain": [
              "              Beverage_category                                      Beverage  \\\n",
              "0                        Coffee                                 Brewed Coffee   \n",
              "1                        Coffee                                 Brewed Coffee   \n",
              "2                        Coffee                                 Brewed Coffee   \n",
              "3                        Coffee                                 Brewed Coffee   \n",
              "4       Classic Espresso Drinks                                   Caffè Latte   \n",
              "..                          ...                                           ...   \n",
              "237  Frappuccino® Blended Crème  Strawberries & Crème (Without Whipped Cream)   \n",
              "238  Frappuccino® Blended Crème          Vanilla Bean (Without Whipped Cream)   \n",
              "239  Frappuccino® Blended Crème          Vanilla Bean (Without Whipped Cream)   \n",
              "240  Frappuccino® Blended Crème          Vanilla Bean (Without Whipped Cream)   \n",
              "241  Frappuccino® Blended Crème          Vanilla Bean (Without Whipped Cream)   \n",
              "\n",
              "          Beverage_prep  Calories   Total Fat (g)  Trans Fat (g)   \\\n",
              "0                 Short         3             0.1             0.0   \n",
              "1                  Tall         4             0.1             0.0   \n",
              "2                Grande         5             0.1             0.0   \n",
              "3                 Venti         5             0.1             0.0   \n",
              "4     Short Nonfat Milk        70             0.1             0.1   \n",
              "..                  ...       ...             ...             ...   \n",
              "237             Soymilk       320            32.0             0.4   \n",
              "238    Tall Nonfat Milk       170             0.1             0.1   \n",
              "239          Whole Milk       200             3.5             2.0   \n",
              "240             Soymilk       180             1.5             0.2   \n",
              "241  Grande Nonfat Milk       240             0.1             0.1   \n",
              "\n",
              "     Saturated Fat (g)   Sodium (mg)   Total Carbohydrates (g)   \\\n",
              "0                  0.0             0                          5   \n",
              "1                  0.0             0                         10   \n",
              "2                  0.0             0                         10   \n",
              "3                  0.0             0                         10   \n",
              "4                  0.0             5                         75   \n",
              "..                 ...           ...                        ...   \n",
              "237                0.0             0                        250   \n",
              "238                0.0             0                        160   \n",
              "239                0.1            10                        160   \n",
              "240                0.0             0                        160   \n",
              "241                0.0             5                        230   \n",
              "\n",
              "     Cholesterol (mg)   Dietary Fibre (g)   Sugars (g)   Protein (g)   \\\n",
              "0                   0                   0            0            0.3   \n",
              "1                   0                   0            0            0.5   \n",
              "2                   0                   0            0            1.0   \n",
              "3                   0                   0            0            1.0   \n",
              "4                  10                   0            9            6.0   \n",
              "..                ...                 ...          ...            ...   \n",
              "237                67                   1           64            5.0   \n",
              "238                39                   0           38            4.0   \n",
              "239                39                   0           38            3.0   \n",
              "240                37                   1           35            3.0   \n",
              "241                56                   0           55            5.0   \n",
              "\n",
              "     Vitamin A (% DV)   Vitamin C (% DV)   Calcium (% DV)   Iron (% DV)   \\\n",
              "0                  0.0               0.0               0.0           0.0   \n",
              "1                  0.0               0.0               0.0           0.0   \n",
              "2                  0.0               0.0               0.0           0.0   \n",
              "3                  0.0               0.0               2.0           0.0   \n",
              "4                 10.0               0.0              20.0           0.0   \n",
              "..                 ...               ...               ...           ...   \n",
              "237                6.0               8.0              20.0          10.0   \n",
              "238                6.0               0.0              10.0           0.0   \n",
              "239                6.0               0.0              10.0           0.0   \n",
              "240                4.0               0.0              10.0           6.0   \n",
              "241                8.0               0.0              15.0           0.0   \n",
              "\n",
              "    Caffeine (mg)  \n",
              "0             175  \n",
              "1             260  \n",
              "2             330  \n",
              "3             410  \n",
              "4              75  \n",
              "..            ...  \n",
              "237             0  \n",
              "238             0  \n",
              "239             0  \n",
              "240             0  \n",
              "241             0  \n",
              "\n",
              "[242 rows x 18 columns]"
            ]
          },
          "execution_count": 28,
          "metadata": {},
          "output_type": "execute_result"
        }
      ],
      "source": [
        "drink_menu"
      ]
    },
    {
      "cell_type": "code",
      "execution_count": null,
      "id": "4c4ce652",
      "metadata": {
        "id": "4c4ce652",
        "outputId": "6c778815-f94f-48d0-a1bf-f68575c22f95"
      },
      "outputs": [
        {
          "name": "stdout",
          "output_type": "stream",
          "text": [
            "<class 'pandas.core.frame.DataFrame'>\n",
            "RangeIndex: 242 entries, 0 to 241\n",
            "Data columns (total 18 columns):\n",
            " #   Column                     Non-Null Count  Dtype  \n",
            "---  ------                     --------------  -----  \n",
            " 0   Beverage_category          242 non-null    object \n",
            " 1   Beverage                   242 non-null    object \n",
            " 2   Beverage_prep              242 non-null    object \n",
            " 3   Calories                   242 non-null    int64  \n",
            " 4    Total Fat (g)             242 non-null    float64\n",
            " 5   Trans Fat (g)              242 non-null    float64\n",
            " 6   Saturated Fat (g)          242 non-null    float64\n",
            " 7    Sodium (mg)               242 non-null    int64  \n",
            " 8    Total Carbohydrates (g)   242 non-null    int64  \n",
            " 9   Cholesterol (mg)           242 non-null    int64  \n",
            " 10   Dietary Fibre (g)         242 non-null    int64  \n",
            " 11   Sugars (g)                242 non-null    int64  \n",
            " 12   Protein (g)               242 non-null    float64\n",
            " 13  Vitamin A (% DV)           242 non-null    float64\n",
            " 14  Vitamin C (% DV)           242 non-null    float64\n",
            " 15   Calcium (% DV)            242 non-null    float64\n",
            " 16  Iron (% DV)                242 non-null    float64\n",
            " 17  Caffeine (mg)              242 non-null    object \n",
            "dtypes: float64(8), int64(6), object(4)\n",
            "memory usage: 34.2+ KB\n"
          ]
        }
      ],
      "source": [
        "drink_menu.info()"
      ]
    },
    {
      "cell_type": "markdown",
      "source": [
        "label encoding for label column "
      ],
      "metadata": {
        "id": "VYzoRLqSQOBT"
      },
      "id": "VYzoRLqSQOBT"
    },
    {
      "cell_type": "code",
      "execution_count": null,
      "id": "5d2bbd5e",
      "metadata": {
        "id": "5d2bbd5e"
      },
      "outputs": [],
      "source": [
        "le = LabelEncoder()\n",
        "drink_menu['Beverage_category']=le.fit_transform(drink_menu['Beverage_category'])"
      ]
    },
    {
      "cell_type": "markdown",
      "source": [
        "correlation between columns with label column"
      ],
      "metadata": {
        "id": "vnOvv8-1QkkT"
      },
      "id": "vnOvv8-1QkkT"
    },
    {
      "cell_type": "code",
      "execution_count": null,
      "id": "51739c1e",
      "metadata": {
        "id": "51739c1e",
        "outputId": "d2df1d75-1f47-444d-f322-56baf27f51bd"
      },
      "outputs": [
        {
          "data": {
            "text/plain": [
              "Beverage_category            1.000000\n",
              "Calories                     0.136394\n",
              " Total Fat (g)               0.004949\n",
              "Trans Fat (g)                0.004235\n",
              "Saturated Fat (g)           -0.012481\n",
              " Sodium (mg)                 0.027701\n",
              " Total Carbohydrates (g)    -0.170832\n",
              "Cholesterol (mg)             0.141937\n",
              " Dietary Fibre (g)           0.138084\n",
              " Sugars (g)                  0.141971\n",
              " Protein (g)                 0.080038\n",
              "Vitamin A (% DV)             0.061679\n",
              "Vitamin C (% DV)             0.222363\n",
              " Calcium (% DV)              0.034374\n",
              "Iron (% DV)                 -0.097831\n",
              "Name: Beverage_category, dtype: float64"
            ]
          },
          "execution_count": 31,
          "metadata": {},
          "output_type": "execute_result"
        }
      ],
      "source": [
        "drink_menu.corr().loc['Beverage_category']"
      ]
    },
    {
      "cell_type": "markdown",
      "source": [
        "correlation is very close between columns and target column"
      ],
      "metadata": {
        "id": "RVoveJWWjaAu"
      },
      "id": "RVoveJWWjaAu"
    },
    {
      "cell_type": "markdown",
      "id": "0a5e7c36",
      "metadata": {
        "id": "0a5e7c36"
      },
      "source": [
        "# using barplot to display relationship between a numeric and a categorical variable"
      ]
    },
    {
      "cell_type": "code",
      "execution_count": null,
      "id": "a4f1e85b",
      "metadata": {
        "id": "a4f1e85b",
        "outputId": "af09c4ec-9e16-4469-bb9c-f0e8e4d95a1d"
      },
      "outputs": [
        {
          "data": {
            "image/png": "[encoded data removed]",
            "text/plain": [
              "<Figure size 1080x432 with 1 Axes>"
            ]
          },
          "metadata": {
            "needs_background": "light"
          },
          "output_type": "display_data"
        }
      ],
      "source": [
        "# barplot for knowing drink which has highest Calories \n",
        "plt.figure(figsize=(15,6))\n",
        "sns.barplot(x=\"Beverage\",y=\"Calories\",data=drink_menu,palette ='hls')\n",
        "plt.xticks(rotation=50,ha='right')\n",
        "plt.title(\"highest calories drink\")\n",
        "plt.show()"
      ]
    },
    {
      "cell_type": "markdown",
      "id": "5cfd8944",
      "metadata": {
        "id": "5cfd8944"
      },
      "source": [
        "After plotting bar plot, I found White chocolate mocha (without whipped cream) to have highest Calories then Java Chip (Without Whipped Cream) having the second highest Calories"
      ]
    },
    {
      "cell_type": "code",
      "execution_count": null,
      "id": "af8fb7d6",
      "metadata": {
        "id": "af8fb7d6",
        "outputId": "483064ef-b4a9-482a-ab17-146ea9282f02"
      },
      "outputs": [
        {
          "data": {
            "image/png": "[encoded data removed]",
            "text/plain": [
              "<Figure size 1080x432 with 1 Axes>"
            ]
          },
          "metadata": {
            "needs_background": "light"
          },
          "output_type": "display_data"
        }
      ],
      "source": [
        "# barplot for knowing drink which has highest Sugars \n",
        "plt.figure(figsize=(15,6))\n",
        "sns.barplot(x=\"Beverage\",y=\" Sugars (g)\",data=drink_menu,palette ='hls')\n",
        "plt.xticks(rotation=50,ha='right')\n",
        "plt.title(\"Highest Sugar Drink\")\n",
        "plt.show()"
      ]
    },
    {
      "cell_type": "markdown",
      "id": "f7741f17",
      "metadata": {
        "id": "f7741f17"
      },
      "source": [
        "After plotting bar plot, I found Java Chip (Without Whipped Cream) to have highest Sugars then Caramel Apple Spice (Without Whipped Cream) the second highest Sugars"
      ]
    },
    {
      "cell_type": "markdown",
      "id": "5168c874",
      "metadata": {
        "id": "5168c874"
      },
      "source": [
        "# Note"
      ]
    },
    {
      "cell_type": "markdown",
      "id": "135f45fb",
      "metadata": {
        "id": "135f45fb"
      },
      "source": [
        "In Visualisations, using Beverage column  drink not Beverage_category to know drink which have highest calories and Sugars but if you want to know category, you should use Beverage_category column."
      ]
    },
    {
      "cell_type": "markdown",
      "source": [
        "# **Reference**"
      ],
      "metadata": {
        "id": "Bo8EgFw_kY7O"
      },
      "id": "Bo8EgFw_kY7O"
    },
    {
      "cell_type": "markdown",
      "source": [
        "https://www.geeksforgeeks.org/seaborn-barplot-method-in-python/\n",
        "\n",
        "https://seaborn.pydata.org/generated/seaborn.barplot.html\n",
        "\n",
        "https://www.delftstack.com/howto/seaborn/rotate-tick-labels-seaborn/\n",
        "\n",
        "https://pythonguides.com/matplotlib-rotate-tick-labels/\n"
      ],
      "metadata": {
        "id": "1viO8TIJlAaR"
      },
      "id": "1viO8TIJlAaR"
    },
    {
      "cell_type": "code",
      "execution_count": null,
      "id": "80ea4e86",
      "metadata": {
        "id": "80ea4e86"
      },
      "outputs": [],
      "source": [
        ""
      ]
    }
  ],
  "metadata": {
    "kernelspec": {
      "display_name": "Python 3 (ipykernel)",
      "language": "python",
      "name": "python3"
    },
    "language_info": {
      "codemirror_mode": {
        "name": "ipython",
        "version": 3
      },
      "file_extension": ".py",
      "mimetype": "text/x-python",
      "name": "python",
      "nbconvert_exporter": "python",
      "pygments_lexer": "ipython3",
      "version": "3.8.2"
    },
    "colab": {
      "name": "Data Science task.ipynb",
      "provenance": [],
      "collapsed_sections": [
        "d63fbdfe"
      ]
    }
  },
  "nbformat": 4,
  "nbformat_minor": 5
}